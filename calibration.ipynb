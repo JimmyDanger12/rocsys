{
 "cells": [
  {
   "cell_type": "code",
   "execution_count": 4,
   "metadata": {},
   "outputs": [
    {
     "ename": "AttributeError",
     "evalue": "'NoneType' object has no attribute '__array_interface__'",
     "output_type": "error",
     "traceback": [
      "\u001b[1;31m---------------------------------------------------------------------------\u001b[0m",
      "\u001b[1;31mAttributeError\u001b[0m                            Traceback (most recent call last)",
      "\u001b[1;32mc:\\Users\\simon\\OneDrive\\Schule\\2024_WS\\THUAS\\rocsys\\rocsys\\calibration\\calibration.ipynb Cell 1\u001b[0m line \u001b[0;36m2\n\u001b[0;32m     <a href='vscode-notebook-cell:/c%3A/Users/simon/OneDrive/Schule/2024_WS/THUAS/rocsys/rocsys/calibration/calibration.ipynb#W0sZmlsZQ%3D%3D?line=19'>20</a>\u001b[0m         images\u001b[39m.\u001b[39mappend(img)\n\u001b[0;32m     <a href='vscode-notebook-cell:/c%3A/Users/simon/OneDrive/Schule/2024_WS/THUAS/rocsys/rocsys/calibration/calibration.ipynb#W0sZmlsZQ%3D%3D?line=20'>21</a>\u001b[0m     \u001b[39mreturn\u001b[39;00m images\n\u001b[1;32m---> <a href='vscode-notebook-cell:/c%3A/Users/simon/OneDrive/Schule/2024_WS/THUAS/rocsys/rocsys/calibration/calibration.ipynb#W0sZmlsZQ%3D%3D?line=22'>23</a>\u001b[0m images \u001b[39m=\u001b[39m load_images_from_folder(\u001b[39m\"\u001b[39;49m\u001b[39m\"\u001b[39;49m, thresh, \u001b[39mTrue\u001b[39;49;00m)\n\u001b[0;32m     <a href='vscode-notebook-cell:/c%3A/Users/simon/OneDrive/Schule/2024_WS/THUAS/rocsys/rocsys/calibration/calibration.ipynb#W0sZmlsZQ%3D%3D?line=24'>25</a>\u001b[0m \u001b[39mdef\u001b[39;00m \u001b[39mshow_image\u001b[39m(img):\n\u001b[0;32m     <a href='vscode-notebook-cell:/c%3A/Users/simon/OneDrive/Schule/2024_WS/THUAS/rocsys/rocsys/calibration/calibration.ipynb#W0sZmlsZQ%3D%3D?line=25'>26</a>\u001b[0m     cv2\u001b[39m.\u001b[39mnamedWindow(\u001b[39m\"\u001b[39m\u001b[39mimg\u001b[39m\u001b[39m\"\u001b[39m,cv2\u001b[39m.\u001b[39mWINDOW_NORMAL)\n",
      "\u001b[1;32mc:\\Users\\simon\\OneDrive\\Schule\\2024_WS\\THUAS\\rocsys\\rocsys\\calibration\\calibration.ipynb Cell 1\u001b[0m line \u001b[0;36m1\n\u001b[0;32m     <a href='vscode-notebook-cell:/c%3A/Users/simon/OneDrive/Schule/2024_WS/THUAS/rocsys/rocsys/calibration/calibration.ipynb#W0sZmlsZQ%3D%3D?line=14'>15</a>\u001b[0m img \u001b[39m=\u001b[39m cv2\u001b[39m.\u001b[39mthreshold(img, thresh, \u001b[39m255\u001b[39m, cv2\u001b[39m.\u001b[39mTHRESH_BINARY)[\u001b[39m1\u001b[39m]\n\u001b[0;32m     <a href='vscode-notebook-cell:/c%3A/Users/simon/OneDrive/Schule/2024_WS/THUAS/rocsys/rocsys/calibration/calibration.ipynb#W0sZmlsZQ%3D%3D?line=15'>16</a>\u001b[0m \u001b[39mif\u001b[39;00m \u001b[39mfilter\u001b[39m:\n\u001b[1;32m---> <a href='vscode-notebook-cell:/c%3A/Users/simon/OneDrive/Schule/2024_WS/THUAS/rocsys/rocsys/calibration/calibration.ipynb#W0sZmlsZQ%3D%3D?line=16'>17</a>\u001b[0m     img \u001b[39m=\u001b[39m Image\u001b[39m.\u001b[39;49mfromarray(img)\n\u001b[0;32m     <a href='vscode-notebook-cell:/c%3A/Users/simon/OneDrive/Schule/2024_WS/THUAS/rocsys/rocsys/calibration/calibration.ipynb#W0sZmlsZQ%3D%3D?line=17'>18</a>\u001b[0m     img \u001b[39m=\u001b[39m img\u001b[39m.\u001b[39mfilter(ImageFilter\u001b[39m.\u001b[39mMedianFilter(size\u001b[39m=\u001b[39m\u001b[39m9\u001b[39m))\n\u001b[0;32m     <a href='vscode-notebook-cell:/c%3A/Users/simon/OneDrive/Schule/2024_WS/THUAS/rocsys/rocsys/calibration/calibration.ipynb#W0sZmlsZQ%3D%3D?line=18'>19</a>\u001b[0m     img \u001b[39m=\u001b[39m np\u001b[39m.\u001b[39marray(img)\n",
      "File \u001b[1;32mc:\\Users\\simon\\OneDrive\\Schule\\2024_WS\\THUAS\\rocsys\\rocsys\\.venv\\lib\\site-packages\\PIL\\Image.py:3059\u001b[0m, in \u001b[0;36mfromarray\u001b[1;34m(obj, mode)\u001b[0m\n\u001b[0;32m   3012\u001b[0m \u001b[39mdef\u001b[39;00m \u001b[39mfromarray\u001b[39m(obj, mode\u001b[39m=\u001b[39m\u001b[39mNone\u001b[39;00m):\n\u001b[0;32m   3013\u001b[0m \u001b[39m    \u001b[39m\u001b[39m\"\"\"\u001b[39;00m\n\u001b[0;32m   3014\u001b[0m \u001b[39m    Creates an image memory from an object exporting the array interface\u001b[39;00m\n\u001b[0;32m   3015\u001b[0m \u001b[39m    (using the buffer protocol)::\u001b[39;00m\n\u001b[1;32m   (...)\u001b[0m\n\u001b[0;32m   3057\u001b[0m \u001b[39m    .. versionadded:: 1.1.6\u001b[39;00m\n\u001b[0;32m   3058\u001b[0m \u001b[39m    \"\"\"\u001b[39;00m\n\u001b[1;32m-> 3059\u001b[0m     arr \u001b[39m=\u001b[39m obj\u001b[39m.\u001b[39;49m__array_interface__\n\u001b[0;32m   3060\u001b[0m     shape \u001b[39m=\u001b[39m arr[\u001b[39m\"\u001b[39m\u001b[39mshape\u001b[39m\u001b[39m\"\u001b[39m]\n\u001b[0;32m   3061\u001b[0m     ndim \u001b[39m=\u001b[39m \u001b[39mlen\u001b[39m(shape)\n",
      "\u001b[1;31mAttributeError\u001b[0m: 'NoneType' object has no attribute '__array_interface__'"
     ]
    }
   ],
   "source": [
    "import cv2\n",
    "import numpy as np\n",
    "import os\n",
    "from PIL import Image, ImageFilter\n",
    "\n",
    "thresh = 80\n",
    "def load_images_from_folder(folder=str,thresh=int,filter=bool):\n",
    "    images = []\n",
    "    for filename in os.listdir(folder):\n",
    "        img = cv2.imread(os.path.join(folder,filename),cv2.IMREAD_GRAYSCALE)\n",
    "        img = cv2.threshold(img, thresh, 255, cv2.THRESH_BINARY)[1]\n",
    "        if filter:\n",
    "            img = Image.fromarray(img)\n",
    "            img = img.filter(ImageFilter.MedianFilter(size=9))\n",
    "            img = np.array(img)\n",
    "        images.append(img)\n",
    "    return images\n",
    "\n",
    "images = load_images_from_folder(\"calibration_images\", thresh, True)\n",
    "\n",
    "def show_image(img):\n",
    "    cv2.namedWindow(\"img\",cv2.WINDOW_NORMAL)\n",
    "    cv2.resizeWindow(\"img\",400,400)\n",
    "    cv2.imshow(\"img\",img)\n",
    "    cv2.waitKey(0)\n",
    "    cv2.destroyAllWindows()\n",
    "\n",
    "for img in images:\n",
    "    show_image(img)"
   ]
  },
  {
   "cell_type": "code",
   "execution_count": 7,
   "metadata": {},
   "outputs": [
    {
     "name": "stdout",
     "output_type": "stream",
     "text": [
      "True\n",
      "False\n",
      "True\n",
      "True\n",
      "True\n",
      "True\n",
      "True\n",
      "True\n",
      "True\n",
      "True\n",
      "Camera Matrix:\n",
      "[[2.66687242e+03 0.00000000e+00 1.29587472e+03]\n",
      " [0.00000000e+00 2.66083170e+03 1.02231091e+03]\n",
      " [0.00000000e+00 0.00000000e+00 1.00000000e+00]]\n",
      "\n",
      "Distortion Coefficients:\n",
      "[[-4.63938658e-01  1.17095684e+00 -7.48369194e-03  1.84250311e-03\n",
      "  -2.89898607e+00]]\n"
     ]
    }
   ],
   "source": [
    "# Prepare object points, like (0,0,0), (1,0,0), (2,0,0) ....,(6,5,0)\n",
    "object_points = np.zeros((10 * 15, 3), np.float32)\n",
    "object_points[:, :2] = np.mgrid[0:15, 0:10].T.reshape(-1, 2)\n",
    "\n",
    "# Arrays to store object points and image points from all images\n",
    "obj_points = []  # 3D points in real world space\n",
    "img_points = []  # 2D points in image plane.\n",
    "\n",
    "# Iterate through images and find chessboard corners\n",
    "for img in images:  # Assuming you have 20 images named as 1.jpg, 2.jpg, ..., 20.jpg\n",
    "\n",
    "    # Find the chessboard corners\n",
    "    ret, corners = cv2.findChessboardCornersSB(img, (15, 10), None)\n",
    "\n",
    "    # If found, add object points, image points\n",
    "    if ret:\n",
    "        obj_points.append(object_points)\n",
    "        img_points.append(corners)\n",
    "\n",
    "        # Draw and display the corners\n",
    "        cv2.drawChessboardCorners(img, (15, 10), corners, ret)\n",
    "        cv2.namedWindow(\"Chessboard Corners\", cv2.WINDOW_NORMAL)\n",
    "        cv2.resizeWindow(\"Chessboard Corners\",700,700)\n",
    "        cv2.imshow('Chessboard Corners', img)\n",
    "        cv2.waitKey(0)  # Wait for a while to visualize the images\n",
    "    print(ret)\n",
    "\n",
    "cv2.destroyAllWindows()\n",
    "\n",
    "# Calibrate the camera\n",
    "ret, mtx, dist, rvecs, tvecs = cv2.calibrateCamera(obj_points, img_points, images[0].shape[::-1], None, None)\n",
    "\n",
    "# Print the camera matrix and distortion coefficients\n",
    "print(\"Camera Matrix:\")\n",
    "print(mtx)\n",
    "print(\"\\nDistortion Coefficients:\")\n",
    "print(dist)\n"
   ]
  },
  {
   "cell_type": "code",
   "execution_count": null,
   "metadata": {},
   "outputs": [],
   "source": []
  }
 ],
 "metadata": {
  "kernelspec": {
   "display_name": ".venv",
   "language": "python",
   "name": "python3"
  },
  "language_info": {
   "codemirror_mode": {
    "name": "ipython",
    "version": 3
   },
   "file_extension": ".py",
   "mimetype": "text/x-python",
   "name": "python",
   "nbconvert_exporter": "python",
   "pygments_lexer": "ipython3",
   "version": "3.9.13"
  },
  "orig_nbformat": 4
 },
 "nbformat": 4,
 "nbformat_minor": 2
}
