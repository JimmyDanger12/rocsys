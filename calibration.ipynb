{
 "cells": [
  {
   "cell_type": "code",
   "execution_count": 37,
   "metadata": {},
   "outputs": [],
   "source": [
    "import cv2\n",
    "import numpy as np\n",
    "\n",
    "thresh = 127\n",
    "def read_image_to_binary(name,thresh):\n",
    "    gray = cv2.imread(f\"calibration_images/{name}.png\",cv2.IMREAD_GRAYSCALE)\n",
    "    return cv2.threshold(gray, thresh, 255, cv2.THRESH_BINARY)[1]\n",
    "\n",
    "def show_image(img):\n",
    "    cv2.namedWindow(\"img\",cv2.WINDOW_NORMAL)\n",
    "    cv2.resizeWindow(\"img\",400,400)\n",
    "    cv2.imshow(\"img\",img)\n",
    "    cv2.waitKey(0)\n",
    "    cv2.destroyAllWindows()\n",
    "\n",
    "\n",
    "img_1 = read_image_to_binary(\"1\",80)\n",
    "#img_1 = img_1[400:1000,700:1850]\n",
    "\n",
    "img_2 = read_image_to_binary(\"2\",80)\n",
    "img_3 = read_image_to_binary(\"3\",80)\n"
   ]
  },
  {
   "cell_type": "code",
   "execution_count": 38,
   "metadata": {},
   "outputs": [],
   "source": [
    "img_list = [img_1, img_2, img_3]"
   ]
  },
  {
   "cell_type": "code",
   "execution_count": 42,
   "metadata": {},
   "outputs": [
    {
     "name": "stdout",
     "output_type": "stream",
     "text": [
      "True\n",
      "True\n",
      "True\n",
      "Camera Matrix:\n",
      "[[1.95991862e+03 0.00000000e+00 1.33725664e+03]\n",
      " [0.00000000e+00 1.95234744e+03 1.10168466e+03]\n",
      " [0.00000000e+00 0.00000000e+00 1.00000000e+00]]\n",
      "\n",
      "Distortion Coefficients:\n",
      "[[-0.25286984  0.32644042 -0.01672609 -0.00368907 -0.44213302]]\n"
     ]
    }
   ],
   "source": [
    "# Prepare object points, like (0,0,0), (1,0,0), (2,0,0) ....,(6,5,0)\n",
    "object_points = np.zeros((10 * 15, 3), np.float32)\n",
    "object_points[:, :2] = np.mgrid[0:15, 0:10].T.reshape(-1, 2)\n",
    "\n",
    "# Arrays to store object points and image points from all images\n",
    "obj_points = []  # 3D points in real world space\n",
    "img_points = []  # 2D points in image plane.\n",
    "\n",
    "# Iterate through images and find chessboard corners\n",
    "for img in img_list:  # Assuming you have 20 images named as 1.jpg, 2.jpg, ..., 20.jpg\n",
    "\n",
    "    # Find the chessboard corners\n",
    "    ret, corners = cv2.findChessboardCorners(img, (15, 10), None)\n",
    "\n",
    "    # If found, add object points, image points\n",
    "    if ret:\n",
    "        obj_points.append(object_points)\n",
    "        img_points.append(corners)\n",
    "\n",
    "        # Draw and display the corners\n",
    "        cv2.drawChessboardCorners(img, (15, 10), corners, ret)\n",
    "        cv2.namedWindow(\"Chessboard Corners\", cv2.WINDOW_NORMAL)\n",
    "        cv2.resizeWindow(\"Chessboard Corners\",700,700)\n",
    "        cv2.imshow('Chessboard Corners', img)\n",
    "        cv2.waitKey(0)  # Wait for a while to visualize the images\n",
    "    print(ret)\n",
    "\n",
    "cv2.destroyAllWindows()\n",
    "\n",
    "# Calibrate the camera\n",
    "ret, mtx, dist, rvecs, tvecs = cv2.calibrateCamera(obj_points, img_points, img_1.shape[::-1], None, None)\n",
    "\n",
    "# Print the camera matrix and distortion coefficients\n",
    "print(\"Camera Matrix:\")\n",
    "print(mtx)\n",
    "print(\"\\nDistortion Coefficients:\")\n",
    "print(dist)\n"
   ]
  },
  {
   "cell_type": "code",
   "execution_count": null,
   "metadata": {},
   "outputs": [],
   "source": []
  }
 ],
 "metadata": {
  "kernelspec": {
   "display_name": ".venv",
   "language": "python",
   "name": "python3"
  },
  "language_info": {
   "codemirror_mode": {
    "name": "ipython",
    "version": 3
   },
   "file_extension": ".py",
   "mimetype": "text/x-python",
   "name": "python",
   "nbconvert_exporter": "python",
   "pygments_lexer": "ipython3",
   "version": "3.9.13"
  },
  "orig_nbformat": 4
 },
 "nbformat": 4,
 "nbformat_minor": 2
}
